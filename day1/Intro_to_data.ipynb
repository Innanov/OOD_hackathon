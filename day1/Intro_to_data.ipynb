{
 "cells": [
  {
   "cell_type": "markdown",
   "id": "9f6828b1",
   "metadata": {},
   "source": [
    "### Introduction our medical data\n",
    "- How to load it?\n",
    "- How to normalize it? \n",
    "- How to visualize it?\n",
    "- How it looks like (Distribution of data)?"
   ]
  },
  {
   "cell_type": "code",
   "execution_count": null,
   "id": "dd0ea6d8",
   "metadata": {},
   "outputs": [],
   "source": []
  }
 ],
 "metadata": {
  "kernelspec": {
   "display_name": "Python 3 (ipykernel)",
   "language": "python",
   "name": "python3"
  },
  "language_info": {
   "codemirror_mode": {
    "name": "ipython",
    "version": 3
   },
   "file_extension": ".py",
   "mimetype": "text/x-python",
   "name": "python",
   "nbconvert_exporter": "python",
   "pygments_lexer": "ipython3",
   "version": "3.9.13"
  }
 },
 "nbformat": 4,
 "nbformat_minor": 5
}
