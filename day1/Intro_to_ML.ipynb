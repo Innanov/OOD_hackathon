{
 "cells": [
  {
   "cell_type": "markdown",
   "id": "427424ce",
   "metadata": {},
   "source": [
    "#### Introduction to ML and OOD \n",
    "\n",
    "- Resources:\n",
    "    - [Scikit-learn documentation](https://scikit-learn.org/stable/modules/outlier_detection.html) "
   ]
  },
  {
   "cell_type": "markdown",
   "id": "67699b40",
   "metadata": {},
   "source": [
    "#### For the next experiments our OOD class will be for samples with DF class and the rest will be considered In-distribution"
   ]
  },
  {
   "cell_type": "code",
   "execution_count": 13,
   "id": "04519d98",
   "metadata": {},
   "outputs": [],
   "source": [
    "import pandas as pd\n",
    "\n",
    "groundtruth = pd.read_csv(\"../data/ISIC2019/ISIC_2019_Training_GroundTruth.csv\")\n",
    "groundtruth = groundtruth.set_index(\"image\")\n",
    "oodist = list(groundtruth.index[groundtruth.DF == 1])\n",
    "indist = list(groundtruth.index[groundtruth.DF != 1])"
   ]
  },
  {
   "cell_type": "code",
   "execution_count": 15,
   "id": "c2cba813",
   "metadata": {},
   "outputs": [
    {
     "data": {
      "text/plain": [
       "(25092, 239)"
      ]
     },
     "execution_count": 15,
     "metadata": {},
     "output_type": "execute_result"
    }
   ],
   "source": [
    "len(indist), len(oodist)"
   ]
  },
  {
   "cell_type": "code",
   "execution_count": 43,
   "id": "6afbaf5e",
   "metadata": {},
   "outputs": [],
   "source": [
    "import os\n",
    "from pathlib import Path\n",
    "import matplotlib.pyplot as plt\n",
    "from PIL import Image\n",
    "\n",
    "X_data = []\n",
    "ood_data = []\n",
    "# get the path/directory\n",
    "folder_dir = \"../data/ISIC2019/ISIC_2019_Training_Input/\"\n",
    "images = Path(folder_dir).glob(\"*.jpg\")\n",
    "\n",
    "for i in images:\n",
    "    # image = plt.imread(i)\n",
    "    image = Image.open(i).convert(\"RGB\")\n",
    "    img_resize = np.array(image.resize((224, 224), Image.Resampling.LANCZOS)).ravel()\n",
    "    if i.stem in indist:\n",
    "        X_data.append(img_resize)\n",
    "    elif i.stem in oodist:\n",
    "        ood_data.append(img_resize)\n",
    "# images = list(images)\n",
    "# X_array = np"
   ]
  },
  {
   "cell_type": "code",
   "execution_count": 18,
   "id": "90254ebe",
   "metadata": {},
   "outputs": [
    {
     "data": {
      "text/plain": [
       "(25092, 239)"
      ]
     },
     "execution_count": 18,
     "metadata": {},
     "output_type": "execute_result"
    }
   ],
   "source": [
    "len(X_data), len(ood_data)"
   ]
  },
  {
   "cell_type": "code",
   "execution_count": 46,
   "id": "7ea7ea9b",
   "metadata": {},
   "outputs": [],
   "source": [
    "import numpy as np\n",
    "\n",
    "X_array = np.array(X_data)\n",
    "ood_array = np.array(ood_data)"
   ]
  },
  {
   "cell_type": "code",
   "execution_count": 47,
   "id": "2f757cc6",
   "metadata": {},
   "outputs": [
    {
     "name": "stdout",
     "output_type": "stream",
     "text": [
      "(25331, 150528) (25331,)\n"
     ]
    }
   ],
   "source": [
    "y_ind = np.zeros(X_array.shape[0])  # not a OOD sample\n",
    "y_ood = np.ones(ood_array.shape[0])  # an OOD sample\n",
    "X = np.concatenate([X_array, ood_array])\n",
    "y = np.concatenate([y_ind, y_ood])\n",
    "print(X.shape, y.shape)"
   ]
  },
  {
   "cell_type": "markdown",
   "id": "042b4634",
   "metadata": {},
   "source": [
    "#### Isolation Forest"
   ]
  },
  {
   "cell_type": "code",
   "execution_count": null,
   "id": "f57224b1",
   "metadata": {},
   "outputs": [],
   "source": [
    "from sklearn.ensemble import IsolationForest\n",
    "from sklearn.model_selection import train_test_split\n",
    "\n",
    "X_train, X_test, y_train, y_test = train_test_split(X, y, stratify=y, random_state=42)\n",
    "\n",
    "clf = IsolationForest(max_samples=100, random_state=0)\n",
    "clf.fit(X_train)"
   ]
  },
  {
   "cell_type": "code",
   "execution_count": null,
   "id": "f8882063",
   "metadata": {},
   "outputs": [],
   "source": []
  }
 ],
 "metadata": {
  "kernelspec": {
   "display_name": "Python 3 (ipykernel)",
   "language": "python",
   "name": "python3"
  },
  "language_info": {
   "codemirror_mode": {
    "name": "ipython",
    "version": 3
   },
   "file_extension": ".py",
   "mimetype": "text/x-python",
   "name": "python",
   "nbconvert_exporter": "python",
   "pygments_lexer": "ipython3",
   "version": "3.9.13"
  }
 },
 "nbformat": 4,
 "nbformat_minor": 5
}
